{
  "nbformat": 4,
  "nbformat_minor": 0,
  "metadata": {
    "colab": {
      "provenance": []
    },
    "kernelspec": {
      "name": "python3",
      "display_name": "Python 3"
    },
    "language_info": {
      "name": "python"
    }
  },
  "cells": [
    {
      "cell_type": "markdown",
      "source": [
        "1.What is the difference between interpreted and compiled languages?\n",
        "Ans:\n",
        "Compiled Language:\n",
        "-A compiled language is a programming language whose implementations are typically compilers and not interpreters.\n",
        "-In this language, once the program is compiled it is expressed in the instructions of the target machine.\n",
        "-There are at least two steps to get from source code to execution.\n",
        "-In this language, compiled programs run faster than interpreted programs.\n",
        "-In this language, compilation errors prevent the code from compiling.\n",
        "-The code of compiled language can be executed directly by the computer's CPU.\n",
        "-This language delivers better performance..e.g.: C, C++, C#, CLEO, COBOL, etc.\n",
        "\n",
        "INTERPRETED LANGUAGE:\n",
        "-An interpreted language is a programming language whose implementations execute instructions directly and freely, without previously compiling a program into machine-language instructions.\n",
        "-While in this language, the instructions are not directly executed by the target machine.\n",
        "-There is only one step to get from source code to execution.\n",
        "-While in this language, interpreted programs can be modified while the program is running.\n",
        "-In this languages, all the debugging occurs at run-time.\n",
        "-A program written in an interpreted language is not compiled, it is interpreted.\n",
        "-This language example delivers relatively slower performance..e.g:JavaScript, Perl, Python, BASIC, etc."
      ],
      "metadata": {
        "id": "ctATOPdbtPhd"
      }
    },
    {
      "cell_type": "markdown",
      "source": [
        "2. What is exception handling in Python?\n",
        "Ans:Exception handling in Python is a mechanism used to manage runtime errors, known as exceptions, that can occur during program execution. This process prevents the program from crashing abruptly and allows for a more controlled and robust response to unexpected situations.\n",
        "The core components of exception handling in Python are:\n",
        "try block:\n",
        "This block contains the code that might potentially raise an exception.\n",
        "except block:\n",
        "If an exception occurs within the try block, the corresponding except block is executed. This block defines how to handle the specific exception or a general class of exceptions. Multiple except blocks can be used to handle different types of exceptions.\n",
        "else block (optional):\n",
        "This block is executed if no exceptions are raised within the try block. It is useful for code that should only run when the try block completes successfully.\n",
        "finally block (optional):\n",
        "This block contains code that will always be executed, regardless of whether an exception occurred or not. It is typically used for cleanup operations, such as closing files or releasing resources.\n",
        "raise statement:\n",
        "This statement is used to explicitly raise an exception, either a built-in exception or a custom exception defined by the programmer."
      ],
      "metadata": {
        "id": "Fty0EzhBQWwo"
      }
    },
    {
      "cell_type": "markdown",
      "source": [
        "3. What is the purpose of the finally block in exception handling?\n",
        "Ans:The finally block in exception handling ensures that a specific block of code is always executed, regardless of whether an exception is thrown or caught within the try block. Its primary purpose is to perform necessary cleanup operations, such as releasing resources (closing files, database connections, etc.) or performing other final actions, to prevent resource leaks and ensure proper program termination.\n",
        "Key points about the finally block:\n",
        "Execution regardless of exception:\n",
        "The code within the finally block executes whether an exception is thrown or not, and whether it's caught or not.\n",
        "Resource cleanup:\n",
        "It's commonly used to release resources that were acquired in the try block. This guarantees that resources are always freed, even if an error occurs.\n",
        "Ensuring proper termination:\n",
        "The finally block ensures that certain code (e.g., closing a file) executes before the method or block exits, preventing potential issues.\n",
        "Can be used without a catch block:\n",
        "A finally block can be used even if there is no corresponding catch block for the try block. In this case, any uncaught exceptions will still propagate up the call stack, but the finally block will execute first."
      ],
      "metadata": {
        "id": "adoxA9bTQwW_"
      }
    },
    {
      "cell_type": "markdown",
      "source": [
        "4.  What is logging in Python?\n",
        "Ans:In Python, a \"logger\" refers to an object from the built-in logging module that serves as the entry point for recording messages and events within a program. It is a fundamental component of Python's robust logging system.\n",
        "Here's a breakdown of what a logger is and its key aspects:\n",
        "Entry Point:\n",
        "Applications interact with the logging system primarily through logger objects. You create a logger, typically by name, and then use its methods (e.g., logger.debug(), logger.info(), logger.error()) to record messages.\n",
        "Named Buckets:\n",
        "Each logger is identified by a name, which allows for hierarchical organization of logging within an application. For example, my_app.sub_module could be a logger name, indicating its place within the application's structure.\n",
        "Log Levels:\n",
        "Loggers are configured with a specific log level (e.g., DEBUG, INFO, WARNING, ERROR, CRITICAL). This level determines the minimum severity of messages that the logger will process. Messages with a lower severity than the logger's level will be ignored.\n",
        "Processing Messages:\n",
        "When a message is sent to a logger, the logger determines if the message's severity level meets its own configured level. If it does, the logger then passes the message to its associated \"handlers.\"\n",
        "Handlers and Formatters:\n",
        "Loggers work in conjunction with \"handlers\" (which determine where log messages go, like the console, a file, or email) and \"formatters\" (which define the structure and content of the log messages). A single logger can have multiple handlers, allowing messages to be sent to different destinations simultaneously.\n",
        "In essence, a logger acts as a central hub for managing and directing log messages within your Python application, providing a structured and flexible way to track events, debug issues, and monitor program execution."
      ],
      "metadata": {
        "id": "o7kfueXOQ-vm"
      }
    },
    {
      "cell_type": "markdown",
      "source": [
        "5.What is the significance of the __del__ method in Python?\n",
        "Ans:\n",
        "The __del__ method in Python, often referred to as a \"finalizer\" or \"destructor\" (though not a true destructor in the C++ sense), is a special method that is called when an object is about to be garbage-collected. Its primary significance lies in providing a mechanism for performing cleanup operations or resource release just before an object is completely removed from memory.\n",
        "Key aspects of its significance:\n",
        "Resource Management:\n",
        "The __del__ method allows you to define actions to be taken when an object is no longer referenced and is eligible for garbage collection. This is particularly useful for releasing external resources held by the object, such as:\n",
        "Closing open files or network connections.\n",
        "Releasing locks or semaphores.\n",
        "Deallocating memory managed by external libraries.\n",
        "Last-Resort Cleanup:\n",
        "While explicit resource management (e.g., using with statements for context managers) is generally preferred and more reliable, __del__ can serve as a last-resort mechanism to ensure that resources are eventually released, even if the user forgets to explicitly close them.\n",
        "Finalization Logic:\n",
        "It provides a place to execute any finalization logic necessary before an object's complete destruction, ensuring a clean shutdown or state for associated components."
      ],
      "metadata": {
        "id": "El9teeYFReiK"
      }
    },
    {
      "cell_type": "markdown",
      "source": [
        "6. What is the difference between import and from ... import in Python?\n",
        "Ans:In Python, both import and from ... import statements are used to bring modules or specific components from modules into the current namespace, but they differ in how they achieve this:\n",
        "import module_name:\n",
        "This statement imports the entire module, making its contents accessible through the module's namespace.\n",
        "To use functions, classes, or variables from the imported module, you must prefix them with the module name and a dot (e.g., module_name.function(), module_name.ClassName).\n",
        "e.g:\n",
        "        import math\n",
        "        print(math.pi)\n",
        "-import brings the module into its own namespace, requiring dot notation for access.\n",
        "-import is generally preferred in larger projects to avoid potential name conflicts, as all imported items are clearly associated with their module.\n",
        "\n",
        "from module_name import specific_item:\n",
        "This statement imports only specific items (functions, classes, or variables) directly from the module into the current namespace.\n",
        "You can then use the imported items directly without needing to prefix them with the module name.\n",
        "e.g.:\n",
        "        from math import pi\n",
        "        print(pi)\n",
        "-from ... import brings specific items directly into the current namespace, allowing direct access.\n",
        "-from ... import can lead to name conflicts if multiple modules contain items with the same name and are imported directly.\n"
      ],
      "metadata": {
        "id": "Y7J9wdZ6Rt9c"
      }
    },
    {
      "cell_type": "markdown",
      "source": [
        "7. How can you handle multiple exceptions in Python?\n",
        "Ans:In Python, multiple exceptions can be handled within a try-except block in several ways:\n",
        "-Handling multiple exceptions with a single except block using a tuple:\n",
        "If the same action needs to be taken for different types of exceptions, they can be grouped together in a tuple within a single except statement.\n",
        "-Handling different exceptions with separate except blocks:\n",
        "If different actions are required for different types of exceptions, separate except blocks can be used for each specific exception type. Python will execute the first except block that matches the raised exception.\n",
        "-Handling exceptions using an inheritance hierarchy.\n",
        "Since exceptions in Python are organized in a class hierarchy, a more general except block can catch a broader range of exceptions. For example, except Exception will catch almost all built-in exceptions, as Exception is the base class for most standard exceptions. However, it is generally recommended to be as specific as possible when catching exceptions to avoid masking unexpected errors.\n",
        "It is important to note that when multiple except blocks are present, Python will execute only the first except block whose exception type matches the raised exception or is a superclass of the raised exception. Therefore, specific exception handlers should be placed before more general ones."
      ],
      "metadata": {
        "id": "y2ycRbEz1t8X"
      }
    },
    {
      "cell_type": "markdown",
      "source": [
        "8. What is the purpose of the with statement when handling files in Python?\n",
        "Ans:The purpose of the with statement when handling files in Python is to ensure proper resource management, specifically that the file is automatically closed after its use, even if errors occur.\n",
        "This is achieved through the use of context managers, which the with statement leverages. When a file is opened using with open(...) as file_object:, the following occurs:\n",
        "Automatic Setup:\n",
        "The file is opened, and a file object is assigned to the specified variable (e.g., file_object).\n",
        "Execution of Block:\n",
        "The code within the with block is executed, allowing operations like reading from or writing to the file.\n",
        "Guaranteed Cleanup:\n",
        "Once the with block is exited, regardless of whether it completes normally or an exception is raised, the with statement automatically calls the necessary cleanup method (in this case, file_object.close()) to ensure the file is properly closed.\n",
        "This eliminates the need for manual try...finally blocks to guarantee file closure, leading to cleaner, more readable, and less error-prone code. It prevents resource leaks and potential data corruption that could occur if files are not closed correctly."
      ],
      "metadata": {
        "id": "y_8qpZaU2QBT"
      }
    },
    {
      "cell_type": "markdown",
      "source": [
        "9.  What is the difference between multithreading and multiprocessing?\n",
        "Ans:\n",
        "Multithreading and multiprocessing are both techniques to achieve parallel execution, but they differ in how they divide tasks and manage resources. Multithreading involves running multiple threads within a single process, sharing the same memory space. Multiprocessing, on the other hand, utilizes multiple processes, each with its own memory space, potentially on separate CPUs.\n",
        "Here's a more detailed breakdown:\n",
        "Multithreading:\n",
        "Focus: Concurrency within a single process.\n",
        "Threads: Lightweight units of execution that share the same memory space and resources of the parent process.\n",
        "Communication: Easier and faster communication between threads due to shared memory.\n",
        "Resource Usage: Lower memory overhead compared to multiprocessing because threads share resources.\n",
        "Potential Issues: A crash in one thread can potentially affect the entire process and other threads.\n",
        "Multiprocessing:\n",
        "Focus: Parallelism across multiple processes, potentially on separate CPUs.\n",
        "Processes: Independent units of execution, each with its own memory space and resources.\n",
        "Communication: Requires inter-process communication (IPC) mechanisms for data exchange, which can be slower.\n",
        "Resource Usage: Higher memory overhead due to each process having its own memory space.\n",
        "Potential Issues: A crash in one process generally does not affect other processes."
      ],
      "metadata": {
        "id": "YLRy8LP_-iOF"
      }
    },
    {
      "cell_type": "markdown",
      "source": [
        "10.  What are the advantages of using logging in a program?\n",
        "Ans:\n",
        "Logging offers numerous advantages in programming, primarily aiding in debugging, performance monitoring, and security. It provides a detailed record of application behavior, allowing developers to understand how the program functions, track events, and identify issues, including errors, warnings, and other critical events. Logs also help in analyzing application behavior over time, detecting usage patterns, and even facilitating incident investigations.\n",
        "Here's a more detailed breakdown of the benefits:\n",
        "1. Enhanced Debugging and Troubleshooting:\n",
        "Detailed error information:\n",
        "Logs capture the state of the application when an error occurs, providing more context than a simple traceback. This helps pinpoint the exact location and cause of the error.\n",
        "Real-time insights:\n",
        "Developers can monitor the application's behavior in real-time to identify issues as they happen and quickly resolve them.\n",
        "Reduced Mean Time To Resolution (MTTR):\n",
        "By providing detailed information about errors, logs significantly reduce the time it takes to diagnose and fix problems.\n",
        "2. Performance Monitoring and Optimization:\n",
        "Identifying bottlenecks:\n",
        "Logs can reveal performance bottlenecks by showing which parts of the application are taking the longest to execute.\n",
        "Analyzing usage patterns:\n",
        "By tracking user actions and data processing, logs can reveal how users interact with the application, leading to performance improvements.\n",
        "Optimizing resource utilization:\n",
        "Logs can help identify areas where resources are being used inefficiently, enabling developers to optimize the application's performance and reduce costs.\n",
        "3. Security and Compliance:\n",
        "Detecting suspicious activity:\n",
        "Logs can help identify unusual patterns or unauthorized access attempts, alerting administrators to potential security breaches.\n",
        "Auditing and compliance:\n",
        "Logs provide a detailed audit trail of application activity, which is crucial for regulatory compliance and security audits.\n",
        "Incident investigation:\n",
        "Logs act as a reliable record of events, providing crucial information for investigating security incidents and determining the root cause of security breaches.\n",
        "4. Improved Collaboration and Communication:\n",
        "Shared understanding:\n",
        "Logs provide a common source of truth for developers, system administrators, and other stakeholders, facilitating better communication and collaboration.\n",
        "Knowledge sharing:\n",
        "Logs can be used to document application behavior, making it easier for new team members to understand the system and its functionalities.\n",
        "Centralized logging:\n",
        "Centralized logging systems provide a unified view of logs from different parts of the application, making it easier to monitor and troubleshoot.\n",
        "5. Other Benefits:\n",
        "Event tracing:\n",
        "Logs can be used to trace the flow of events through the application, helping to understand how different parts of the system interact.\n",
        "Business intelligence:\n",
        "Logs can be used to extract valuable insights about user behavior and application usage, which can be used to improve business strategies.\n",
        "Continuous feedback and improvement:\n",
        "By tracking logs throughout the software development lifecycle, teams can identify recurring issues and make continuous improvements to the application."
      ],
      "metadata": {
        "id": "b_4bTmSM-xTo"
      }
    },
    {
      "cell_type": "markdown",
      "source": [
        "11. What is memory management in Python?\n",
        "Ans:\n",
        "Memory management in Python refers to the automatic process by which Python handles the allocation and deallocation of memory for its objects and data structures. Unlike languages like C or C++ where manual memory management is often required, Python abstracts this complexity, allowing developers to focus on writing code without needing to explicitly allocate or free memory.\n",
        "Key aspects of Python's memory management include:\n",
        "Private Heap:\n",
        "All Python objects and data structures reside in a private heap, managed by the Python memory manager. This heap is distinct from the system heap.\n",
        "Reference Counting:\n",
        "This is the primary mechanism for memory management. Each Python object maintains a reference count, which tracks the number of references pointing to it. When an object's reference count drops to zero, it signifies that the object is no longer accessible, and its memory can be reclaimed.\n",
        "Garbage Collection:\n",
        "While reference counting handles most memory deallocation, it cannot detect and reclaim memory occupied by objects involved in reference cycles (e.g., two objects referencing each other). Python's garbage collector addresses this by periodically identifying and collecting such cyclic references. It employs a generational garbage collection scheme, classifying objects into different generations based on their age, and collecting older generations less frequently.\n",
        "Memory Pool and Arenas:\n",
        "For efficiency, Python pre-allocates blocks of memory called \"arenas\" (typically 256KB). These arenas are then divided into \"pools\" (4KB), which in turn contain fixed-size \"blocks\" for storing objects of specific sizes. This structured allocation helps reduce fragmentation and improve performance.\n",
        "Automatic Allocation and Deallocation:\n",
        "The entire process of allocating memory for new objects and deallocating memory for unused objects is handled automatically by the Python interpreter, eliminating the need for manual intervention from the programmer."
      ],
      "metadata": {
        "id": "sBrFqFQR-9cn"
      }
    },
    {
      "cell_type": "markdown",
      "source": [
        "12.What are the basic steps involved in exception handling in Python?\n",
        "Ans:Exception handling in Python involves anticipating and responding to errors or exceptional conditions that may occur during program execution. The basic steps involve using specific blocks to manage the flow of control when an exception is raised:\n",
        "try block: This block encloses the code segment that might potentially raise an exception. Python attempts to execute the code within this block.\n",
        "    try:\n",
        "        # Code that might raise an exception\n",
        "        result = 10 / 0  # This will raise a ZeroDivisionError\n",
        "except block(s): These blocks follow the try block and are executed if an exception occurs within the try block. You can have multiple except blocks to handle different types of exceptions specifically.\n",
        "    except ZeroDivisionError:\n",
        "        print(\"Error: Cannot divide by zero!\")\n",
        "    except ValueError:\n",
        "        print(\"Error: Invalid value encountered.\")\n",
        "    except Exception as e: # Catch-all for other exceptions\n",
        "        print(f\"An unexpected error occurred: {e}\")\n",
        "\n",
        "else block (optional): This block is executed only if no exception occurs within the try block. It provides a way to run code that depends on the successful execution of the try block.\n",
        "    else:\n",
        "        print(\"Operation completed successfully.\")\n",
        "\n",
        "\n",
        "finally block (optional): This block is always executed, regardless of whether an exception occurred or not. It is typically used for cleanup operations, such as closing files or releasing resources, ensuring these actions happen even if an error interrupts the main process.\n",
        "    finally:\n",
        "        print(\"This code always runs.\")"
      ],
      "metadata": {
        "id": "46wGyu1T_IdN"
      }
    },
    {
      "cell_type": "markdown",
      "source": [
        "13. Why is memory management important in Python?\n",
        "Ans:\n",
        "Memory management is crucial in Python, even though it largely handles memory automatically, for several reasons:\n",
        "Efficiency and Performance:\n",
        "Proper memory management ensures that programs utilize system resources efficiently. When memory is managed well, programs run faster and consume less RAM, which is especially important for large applications or those dealing with significant amounts of data. Inefficient memory usage can lead to slow execution, increased processing times, and potentially system slowdowns.\n",
        "Preventing Memory Leaks:\n",
        "Memory leaks occur when a program fails to release memory that is no longer in use, leading to a gradual increase in memory consumption over time. This can eventually lead to the program running out of memory, crashing, or becoming unresponsive. Python's automatic garbage collection helps mitigate this, but understanding memory management principles allows developers to write code that avoids creating situations where objects might not be properly de-referenced.\n",
        "Resource Optimization:\n",
        "Python's memory management mechanisms, such as reference counting and garbage collection, are designed to optimize memory usage by reclaiming space occupied by objects that are no longer accessible. Understanding these mechanisms enables developers to write code that works in harmony with Python's memory management system, leading to more optimized applications.\n",
        "Debugging and Troubleshooting:\n",
        "Knowledge of memory management helps in identifying and resolving memory-related issues in Python programs. When a program exhibits unexpected behavior or high memory usage, understanding how Python allocates and deallocates memory can guide the debugging process and help pinpoint the root cause of the problem.\n",
        "Writing Robust Applications:\n",
        "By understanding how memory is managed, developers can write more robust and stable applications that are less prone to crashes or errors caused by memory exhaustion or corruption. This is particularly important for long-running applications or those handling critical data."
      ],
      "metadata": {
        "id": "HBmP41Cc_1dS"
      }
    },
    {
      "cell_type": "markdown",
      "source": [
        "14. What is the role of try and except in exception handling?\n",
        "Ans:\n",
        "In Python, the try and except statements are used for exception handling, which allows programs to gracefully manage errors during execution instead of crashing. The try block contains the code that might raise an exception, and if an exception occurs, the except block handles it, preventing the program from terminating abruptly.\n",
        "\n",
        "try block: This block encloses the code that might potentially raise an exception. It's like a testing ground where you anticipate potential errors. If an error occurs within the try block, Python immediately jumps to the corresponding except block.\n",
        "except block: This block is executed only if a specific type of exception (or a general exception) is raised within the associated try block. It allows you to define how to handle the error, such as displaying an error message, attempting to recover from the error, or logging the error for later analysis. You can have multiple except blocks to handle different types of exceptions.\n",
        "    try:\n",
        "        x = int(input(\"Enter a number: \"))\n",
        "        result = 10 / x\n",
        "        print(result)\n",
        "    except ZeroDivisionError:\n",
        "        print(\"Cannot divide by zero!\")\n",
        "    except ValueError:\n",
        "        print(\"Invalid input. Please enter a number.\")\n",
        "    except Exception as e:\n",
        "        print(f\"An unexpected error occurred: {e}\")\n",
        "In this example:\n",
        "The try block attempts to get user input, convert it to an integer, and divide 10 by it.\n",
        "If the user enters 0, a ZeroDivisionError is raised, and the corresponding except block handles it.\n",
        "If the user enters something that cannot be converted to an integer, a ValueError is raised, and the second except block handles it.\n",
        "The except Exception as e block catches any other exceptions that might occur and prints a generic error message."
      ],
      "metadata": {
        "id": "wsXyXI7EBsmU"
      }
    },
    {
      "cell_type": "markdown",
      "source": [
        "15.  How does Python's garbage collection system work?\n",
        "Ans:\n",
        "Python's garbage collection system primarily uses reference counting as its main mechanism for memory management. It also employs a generational garbage collector to handle circular references. Essentially, Python keeps track of how many references point to each object. When the reference count drops to zero, the object is considered garbage and its memory is freed.\n",
        "\n",
        "1. Reference Counting:\n",
        "Every object in Python has a reference count associated with it.\n",
        "This count indicates how many different variables or data structures are currently pointing to that object.\n",
        "When a new reference to an object is created, its reference count is incremented.\n",
        "When a reference is deleted or goes out of scope, the reference count is decremented.\n",
        "When the reference count of an object reaches zero, it means the object is no longer in use and the Python interpreter can reclaim the memory occupied by that object.\n",
        "2. Generational Garbage Collection:\n",
        "Python also has a generational garbage collector to address circular references.\n",
        "Circular references occur when objects refer to each other, creating a cycle where reference counts never reach zero even if the objects are no longer accessible from the main program.\n",
        "The generational garbage collector divides objects into different generations (typically three: 0, 1, and 2) based on how many garbage collection cycles they have survived.\n",
        "New objects start in generation 0. If an object survives a collection cycle, it's moved to the next older generation.\n",
        "When the garbage collector runs, it first checks the youngest generation (generation 0). If necessary, it checks older generations as well.\n",
        "The collector identifies unreachable objects (including those within circular references) and reclaims their memory.\n"
      ],
      "metadata": {
        "id": "GIjbRe1iCFil"
      }
    },
    {
      "cell_type": "markdown",
      "source": [
        "16. What is the purpose of the else block in exception handling?\n",
        "Ans:\n",
        "In exception handling, the else block is used to execute code only when no exception is raised within the corresponding try block. It provides a way to separate code that should run only if the try block is successful from the error handling part.\n",
        "Here's a more detailed explanation:\n",
        "try block: This block contains the code that might potentially raise an exception.\n",
        "except block(s): These blocks handle specific or general exceptions that might be raised in the try block.\n",
        "else block: This block is executed only if the try block completes without raising any exceptions. It's a way to specify actions that should be performed when the try block succeeds, without being part of the error handling logic.\n"
      ],
      "metadata": {
        "id": "WsAT3lUFCU0d"
      }
    },
    {
      "cell_type": "markdown",
      "source": [
        "17.  What are the common logging levels in Python?\n",
        "Ans:\n",
        "Python's built-in logging module provides several standard logging levels to categorize the severity of events. These levels, from lowest to highest severity, are:\n",
        "DEBUG (10):\n",
        "Detailed information, typically of interest only when diagnosing problems. This level is useful for tracing the execution flow and inspecting variable values.\n",
        "INFO (20):\n",
        "Confirmation that things are working as expected. These messages provide general information about the application's state and progress.\n",
        "WARNING (30):\n",
        "An indication that something unexpected happened, or indicative of some problem in the near future (e.g., 'disk space low'). The software is still working as expected.\n",
        "ERROR (40):\n",
        "A more serious problem that has prevented the software from performing some function. This indicates a failure in a specific part of the application.\n",
        "CRITICAL (50):\n",
        "A severe error, indicating that the program itself may be unable to continue running. This is the highest level of severity and usually signifies a catastrophic failure.\n",
        "Each level has a corresponding numeric value, which dictates the hierarchy. When a logging level is set, only messages with that level or a higher severity level will be processed and potentially displayed or stored. For example, if the logging level is set to WARNING, WARNING, ERROR, and CRITICAL messages will be processed, while DEBUG and INFO messages will be ignored."
      ],
      "metadata": {
        "id": "WtKGxPkBDHDL"
      }
    },
    {
      "cell_type": "markdown",
      "source": [
        "18.  What is the difference between os.fork() and multiprocessing in Python?\n",
        "Ans:\n",
        "Python os.fork() method creates a copy of the process that has called it. Executing os. fork() creates two processes: A parent process and a child process. It returns 0 in the child process, and the child's process id in the parent process.\n",
        "Multiprocessing is a package that supports spawning processes using an API similar to the threading module. The multiprocessing package offers both local and remote concurrency, effectively side-stepping the Global Interpreter Lock by using subprocesses instead of threads."
      ],
      "metadata": {
        "id": "xUg7tivCLQXX"
      }
    },
    {
      "cell_type": "markdown",
      "source": [
        "19. What is the importance of closing a file in Python?\n",
        "Ans:\n",
        "Closing files in Python is an essential practice that helps maintain data integrity, prevent resource leaks, and ensure the reliability of your applications. By mastering file handling techniques, you can write more robust and efficient Python code that effectively manages file resources.\n"
      ],
      "metadata": {
        "id": "dSIbO62aOvSK"
      }
    },
    {
      "cell_type": "markdown",
      "source": [
        "20. What is the difference between file.read() and file.readline() in Python?\n",
        "Ans:\n",
        "The `read()` method will read the entire content of the file or stream if no argument is provided, returning a string. On the other hand, the `readline()` method reads a single line up to the newline character (`\\n`) and returns it as a string. If there are no more lines to read, it will return an empty string.\n"
      ],
      "metadata": {
        "id": "SJSQJaFFO5FY"
      }
    },
    {
      "cell_type": "markdown",
      "source": [
        "21.What is the logging module in Python used for?\n",
        "Ans:\n",
        "Python logging is a module that allows you to track events that occur while your program is running. You can use logging to record information about errors, warnings, and other events that occur during program execution. And logging is a useful tool for debugging, troubleshooting, and monitoring your program.\n"
      ],
      "metadata": {
        "id": "yJfYqL1XPCRC"
      }
    },
    {
      "cell_type": "markdown",
      "source": [
        "22.What is the os module in Python used for in file handling?\n",
        "Ans:\n",
        "The Python OS module is essential for file-related tasks, enabling efficient file and directory management in programs. It allows you to easily handle the current working directory, create and delete directories, list files and folders, and perform file operations.\n"
      ],
      "metadata": {
        "id": "-kckIdNrPtVv"
      }
    },
    {
      "cell_type": "markdown",
      "source": [
        "23. What are the challenges associated with memory management in Python?\n",
        "Ans:Without proper memory management, you can face challenges while building these applications, as effective memory allocation is necessary in order to avoid problems that can arise when you run out of memory, such as memory leaks.\n"
      ],
      "metadata": {
        "id": "tsVQuL8gXwZN"
      }
    },
    {
      "cell_type": "markdown",
      "source": [
        "24. How do you raise an exception manually in Python?\n",
        "Ans:The raise keyword is used to raise an exception. You can define what kind of error to raise, and the text to print to the user."
      ],
      "metadata": {
        "id": "LNKl88BqYSVS"
      }
    },
    {
      "cell_type": "markdown",
      "source": [
        "25. Why is it important to use multithreading in certain applications?\n",
        "Ans:\n",
        "\n",
        "Improved Performance: Multithreading improves the performance of applications by running the task simultaneously. Better Responsiveness: Multithreading improves the responsiveness of your backend applications by running threads after a task is blocked.\n"
      ],
      "metadata": {
        "id": "RQsHcMDKYm-T"
      }
    },
    {
      "cell_type": "code",
      "source": [
        "#1.  How can you open a file for writing in Python and write a string to it?\n",
        "\n",
        "my_string = \"This is a string that will be written to the file.\"\n",
        "try:\n",
        "    with open(\"my_output_file.txt\", \"w\") as file:\n",
        "        file.write(my_string)\n",
        "        file.write(\"\\nThis is a second line.\")\n",
        "    print(\"String successfully written to my_output_file.txt\")\n",
        "except IOError as e:\n",
        "    print(f\"Error writing to file: {e}\")"
      ],
      "metadata": {
        "id": "8t1ZcU9FYyoe",
        "colab": {
          "base_uri": "https://localhost:8080/"
        },
        "outputId": "97004c65-9df0-46eb-bedf-8556b83636ef"
      },
      "execution_count": 2,
      "outputs": [
        {
          "output_type": "stream",
          "name": "stdout",
          "text": [
            "String successfully written to my_output_file.txt\n"
          ]
        }
      ]
    },
    {
      "cell_type": "code",
      "source": [
        "#2.Write a Python program to read the contents of a file and print each line\n",
        "def read_and_print_file(filename):\n",
        "\n",
        "    try:\n",
        "        with open(filename, 'r') as file:\n",
        "            for line in file:\n",
        "                print(line.strip())\n",
        "    except FileNotFoundError:\n",
        "        print(f\"Error: The file '{filename}' was not found.\")\n",
        "    except Exception as e:\n",
        "        print(f\"An error occurred while reading the file: {e}\")\n",
        "\n",
        "\n",
        "if __name__ == \"__main__\":\n",
        "    file_to_read = \"example.txt\"\n",
        "\n",
        "\n",
        "    try:\n",
        "        with open(file_to_read, 'w') as f:\n",
        "            f.write(\"This is line 1.\\n\")\n",
        "            f.write(\"This is line 2.\\n\")\n",
        "            f.write(\"And this is line 3.\\n\")\n",
        "    except Exception as e:\n",
        "        print(f\"Could not create dummy file: {e}\")\n",
        "\n",
        "    read_and_print_file(file_to_read)"
      ],
      "metadata": {
        "colab": {
          "base_uri": "https://localhost:8080/"
        },
        "id": "WJYSQhlrRokA",
        "outputId": "1204a996-069a-44ef-86ef-f660f086a69c"
      },
      "execution_count": 17,
      "outputs": [
        {
          "output_type": "stream",
          "name": "stdout",
          "text": [
            "This is line 1.\n",
            "This is line 2.\n",
            "And this is line 3.\n"
          ]
        }
      ]
    },
    {
      "cell_type": "code",
      "source": [
        "#3.How would you handle a case where the file doesn't exist while trying to open it for reading\n",
        "import os\n",
        "fp = \"abc.txt\"\n",
        "\n",
        "if os.path.exists(fp):\n",
        "    with open(fp, \"r\") as f:\n",
        "        data = f.read()\n",
        "else:\n",
        "    print(\"Not found!\")"
      ],
      "metadata": {
        "colab": {
          "base_uri": "https://localhost:8080/"
        },
        "id": "Byt63msVST2V",
        "outputId": "6c5158a0-0119-485a-dc4c-ce4f19561888"
      },
      "execution_count": 1,
      "outputs": [
        {
          "output_type": "stream",
          "name": "stdout",
          "text": [
            "Not found!\n"
          ]
        }
      ]
    },
    {
      "cell_type": "code",
      "source": [
        "#4.Write a Python script that reads from one file and writes its content to another file?\n",
        "def copy_file_content(source_filepath, destination_filepath):\n",
        "\n",
        "    try:\n",
        "        with open(source_filepath, 'r') as source_file:\n",
        "            content = source_file.read()\n",
        "\n",
        "        with open(destination_filepath, 'w') as destination_file:\n",
        "            destination_file.write(content)\n",
        "\n",
        "        print(f\"Content successfully copied from '{source_filepath}' to '{destination_filepath}'.\")\n",
        "\n",
        "    except FileNotFoundError:\n",
        "        print(f\"Error: One of the files was not found. Please check the paths.\")\n",
        "    except Exception as e:\n",
        "        print(f\"An error occurred: {e}\")\n",
        "\n",
        "\n",
        "if __name__ == \"__main__\":\n",
        "    source_file = \"input.txt\"\n",
        "    destination_file = \"output.txt\"\n",
        "\n",
        "\n",
        "    with open(source_file, 'w') as f:\n",
        "        f.write(\"This is line 1.\\n\")\n",
        "        f.write(\"This is line 2.\\n\")\n",
        "        f.write(\"And this is line 3.\")\n",
        "\n",
        "    copy_file_content(source_file, destination_file)\n",
        "\n",
        "    try:\n",
        "        with open(destination_file, 'r') as f:\n",
        "            print(\"\\nContent of the destination file:\")\n",
        "            print(f.read())\n",
        "    except FileNotFoundError:\n",
        "        print(f\"Error: Destination file '{destination_file}' not found for verification.\")"
      ],
      "metadata": {
        "colab": {
          "base_uri": "https://localhost:8080/"
        },
        "id": "cRBTorZyjVTj",
        "outputId": "2637c692-8fb3-49b6-8f6d-0cf6626e735a"
      },
      "execution_count": 3,
      "outputs": [
        {
          "output_type": "stream",
          "name": "stdout",
          "text": [
            "Content successfully copied from 'input.txt' to 'output.txt'.\n",
            "\n",
            "Content of the destination file:\n",
            "This is line 1.\n",
            "This is line 2.\n",
            "And this is line 3.\n"
          ]
        }
      ]
    },
    {
      "cell_type": "code",
      "source": [
        "#5.How would you catch and handle division by zero error in Python?\n",
        "try:\n",
        "    numerator = 10\n",
        "    denominator = 0\n",
        "    result = numerator / denominator\n",
        "    print(f\"The result is: {result}\")\n",
        "except ZeroDivisionError:\n",
        "    print(\"Error: Cannot divide by zero!\")\n",
        "    # You can also set a default value or perform other error handling here\n",
        "    result = None\n",
        "    print(f\"Result set to: {result}\")"
      ],
      "metadata": {
        "colab": {
          "base_uri": "https://localhost:8080/"
        },
        "id": "nKFZyGO2kBb1",
        "outputId": "a203edd8-5ca0-4d72-c976-cc55e25372a2"
      },
      "execution_count": 4,
      "outputs": [
        {
          "output_type": "stream",
          "name": "stdout",
          "text": [
            "Error: Cannot divide by zero!\n",
            "Result set to: None\n"
          ]
        }
      ]
    },
    {
      "cell_type": "code",
      "source": [
        "#6.Write a Python program that logs an error message to a log file when a division by zero exception occurs\n",
        "import logging\n",
        "\n",
        "logging.basicConfig(filename='error_log.log', level=logging.INFO,\n",
        "                    format='%(asctime)s - %(levelname)s - %(message)s')\n",
        "\n",
        "def divide_numbers(numerator, denominator):\n",
        "\n",
        "    try:\n",
        "        result = numerator / denominator\n",
        "        logging.info(f\"Division successful: {numerator} / {denominator} = {result}\")\n",
        "        return result\n",
        "    except ZeroDivisionError as e:\n",
        "        error_message = f\"Attempted division by zero: {numerator} / {denominator}. Error: {e}\"\n",
        "        logging.error(error_message)\n",
        "        return None\n",
        "\n",
        "print(\"Performing division operations...\")\n",
        "divide_numbers(10, 2)\n",
        "divide_numbers(5, 0)\n",
        "divide_numbers(20, 4)\n",
        "\n",
        "print(\"Check 'error_log.log' for details.\")"
      ],
      "metadata": {
        "colab": {
          "base_uri": "https://localhost:8080/"
        },
        "id": "-twwrnOFkZiv",
        "outputId": "73558ef2-634d-49e7-d552-ff58fbd4dcdf"
      },
      "execution_count": 7,
      "outputs": [
        {
          "output_type": "stream",
          "name": "stderr",
          "text": [
            "ERROR:root:Attempted division by zero: 5 / 0. Error: division by zero\n"
          ]
        },
        {
          "output_type": "stream",
          "name": "stdout",
          "text": [
            "Performing division operations...\n",
            "Check 'error_log.log' for details.\n"
          ]
        }
      ]
    },
    {
      "cell_type": "code",
      "source": [
        "#7. How do you log information at different levels (INFO, ERROR, WARNING) in Python using the logging module\n",
        "    import logging\n",
        "    logging.basicConfig(level=logging.INFO, format='%(asctime)s - %(levelname)s - %(message)s')\n",
        "    logging.debug(\"This is a debug message.\")  # May not be displayed if level is INFO or higher\n",
        "    logging.info(\"This is an informational message.\")\n",
        "    logging.warning(\"This is a warning message, something might be wrong.\")\n",
        "    logging.error(\"This is an error message, something went wrong!\")\n",
        "    logging.critical(\"This is a critical error, the application might stop.\")"
      ],
      "metadata": {
        "id": "QTpLzzsMk40d"
      },
      "execution_count": null,
      "outputs": []
    },
    {
      "cell_type": "code",
      "source": [
        "#8. Write a program to handle a file opening error using exception handling\n",
        "def safe_file_open(filename, mode):\n",
        "    \"\"\"\n",
        "    Attempts to open a file and handles FileNotFoundError.\n",
        "\n",
        "    Args:\n",
        "        filename (str): The name of the file to open.\n",
        "        mode (str): The mode in which to open the file (e.g., 'r' for read, 'w' for write).\n",
        "\n",
        "    Returns:\n",
        "        file object or None: The opened file object if successful, None otherwise.\n",
        "    \"\"\"\n",
        "    try:\n",
        "        file = open(filename, mode)\n",
        "        print(f\"File '{filename}' opened successfully in '{mode}' mode.\")\n",
        "        return file\n",
        "    except FileNotFoundError:\n",
        "        print(f\"Error: The file '{filename}' was not found.\")\n",
        "        return None\n",
        "    except IOError as e:\n",
        "        print(f\"An I/O error occurred while opening '{filename}': {e}\")\n",
        "        return None\n",
        "    except Exception as e:\n",
        "        print(f\"An unexpected error occurred: {e}\")\n",
        "        return None\n",
        "\n",
        "# Example usage:\n",
        "file_to_read = \"non_existent_file.txt\"\n",
        "opened_file = safe_file_open(file_to_read, 'r')\n",
        "\n",
        "if opened_file:\n",
        "    # Perform operations with the file if it was opened successfully\n",
        "    # For demonstration, we'll just close it immediately\n",
        "    opened_file.close()\n",
        "    print(f\"File '{file_to_read}' closed.\")\n",
        "\n",
        "print(\"\\nAttempting to open a valid file:\")\n",
        "valid_file = \"my_document.txt\"\n",
        "# Create a dummy file for demonstration\n",
        "with open(valid_file, 'w') as f:\n",
        "    f.write(\"This is a test document.\")\n",
        "\n",
        "opened_valid_file = safe_file_open(valid_file, 'r')\n",
        "if opened_valid_file:\n",
        "    content = opened_valid_file.read()\n",
        "    print(f\"Content of '{valid_file}':\\n{content}\")\n",
        "    opened_valid_file.close()\n",
        "    print(f\"File '{valid_file}' closed.\")"
      ],
      "metadata": {
        "colab": {
          "base_uri": "https://localhost:8080/"
        },
        "id": "OSssuAIPlgGT",
        "outputId": "55b3b9ae-cf02-439f-ed02-4b5d471c56a1"
      },
      "execution_count": 15,
      "outputs": [
        {
          "output_type": "stream",
          "name": "stdout",
          "text": [
            "Error: The file 'non_existent_file.txt' was not found.\n",
            "\n",
            "Attempting to open a valid file:\n",
            "File 'my_document.txt' opened successfully in 'r' mode.\n",
            "Content of 'my_document.txt':\n",
            "This is a test document.\n",
            "File 'my_document.txt' closed.\n"
          ]
        }
      ]
    },
    {
      "cell_type": "code",
      "source": [
        "#9. How can you read a file line by line and store its content in a list in Python\n",
        "try:\n",
        "    with open('your_file.txt', 'r') as file:\n",
        "        lines = file.readlines()\n",
        "    print(lines)\n",
        "except FileNotFoundError:\n",
        "    print(\"Error: The file 'your_file.txt' was not found.\")"
      ],
      "metadata": {
        "colab": {
          "base_uri": "https://localhost:8080/"
        },
        "id": "VCmezgq-lwhP",
        "outputId": "81a07a29-d3ab-413c-efc6-ca25d2d6c2b7"
      },
      "execution_count": 16,
      "outputs": [
        {
          "output_type": "stream",
          "name": "stdout",
          "text": [
            "Error: The file 'your_file.txt' was not found.\n"
          ]
        }
      ]
    },
    {
      "cell_type": "code",
      "source": [
        "#10. How can you append data to an existing file in Python\n",
        "\n",
        "with open('my_file.txt', 'a') as file:\n",
        "\n",
        "    file.write('This is a new line of text.\\n')\n",
        "    file.write('This line will be appended after the previous one.\\n')\n",
        "\n"
      ],
      "metadata": {
        "id": "NiqdrrgEmGKj"
      },
      "execution_count": 18,
      "outputs": []
    },
    {
      "cell_type": "code",
      "source": [
        "#11.Write a Python program that uses a try-except block to handle an error when attempting to access a dictionary key that doesn't exist\n",
        "def access_dictionary_key(data_dict, key):\n",
        "\n",
        "    try:\n",
        "        value = data_dict[key]\n",
        "        print(f\"Successfully accessed key '{key}'. Value: {value}\")\n",
        "    except KeyError:\n",
        "        print(f\"Error: Key '{key}' not found in the dictionary.\")\n",
        "\n",
        "\n",
        "my_dictionary = {\"name\": \"Alice\", \"age\": 30, \"city\": \"New York\"}\n",
        "\n",
        "\n",
        "access_dictionary_key(my_dictionary, \"name\")\n",
        "\n",
        "\n",
        "access_dictionary_key(my_dictionary, \"country\")"
      ],
      "metadata": {
        "colab": {
          "base_uri": "https://localhost:8080/"
        },
        "id": "3AlPt6UYmWrW",
        "outputId": "2e89caa7-8648-4e5b-e77f-b6026a11d467"
      },
      "execution_count": 20,
      "outputs": [
        {
          "output_type": "stream",
          "name": "stdout",
          "text": [
            "Successfully accessed key 'name'. Value: Alice\n",
            "Error: Key 'country' not found in the dictionary.\n"
          ]
        }
      ]
    },
    {
      "cell_type": "code",
      "source": [
        "#12.  Write a program that demonstrates using multiple except blocks to handle different types of exceptions\n",
        "\n",
        "def safe_division():\n",
        "\n",
        "    try:\n",
        "        num1_str = input(\"Enter the first number: \")\n",
        "        num1 = int(num1_str)\n",
        "\n",
        "        num2_str = input(\"Enter the second number: \")\n",
        "        num2 = int(num2_str)\n",
        "\n",
        "        result = num1 / num2\n",
        "        print(f\"The result of {num1} / {num2} is: {result}\")\n",
        "\n",
        "    except ValueError:\n",
        "        print(\"Error: Invalid input. Please ensure you enter valid integers.\")\n",
        "    except ZeroDivisionError:\n",
        "        print(\"Error: Cannot divide by zero. Please enter a non-zero second number.\")\n",
        "    except Exception as e:\n",
        "\n",
        "        print(f\"An unexpected error occurred: {e}\")\n",
        "    finally:\n",
        "        print(\"Execution of the division attempt is complete.\")\n",
        "\n",
        "\n",
        "safe_division()"
      ],
      "metadata": {
        "colab": {
          "base_uri": "https://localhost:8080/"
        },
        "id": "2g1iXi-Fmypy",
        "outputId": "a87025b0-f3da-45d8-bcb5-7d96d42e565d"
      },
      "execution_count": 23,
      "outputs": [
        {
          "output_type": "stream",
          "name": "stdout",
          "text": [
            "Enter the first number: 3\n",
            "Enter the second number: 5\n",
            "The result of 3 / 5 is: 0.6\n",
            "Execution of the division attempt is complete.\n"
          ]
        }
      ]
    },
    {
      "cell_type": "code",
      "source": [
        "#13.  How would you check if a file exists before attempting to read it in Python\n",
        "   import os\n",
        "\n",
        "    file_path = \"my_document.txt\"\n",
        "\n",
        "    if os.path.exists(file_path):\n",
        "        # The path exists, but it could be a directory.\n",
        "        # Use os.path.isfile() to confirm it's specifically a file.\n",
        "        if os.path.isfile(file_path):\n",
        "            with open(file_path, 'r') as f:\n",
        "                content = f.read()\n",
        "                print(\"File content:\", content)\n",
        "        else:\n",
        "            print(f\"'{file_path}' exists, but it is not a file.\")\n",
        "    else:\n",
        "        print(f\"'{file_path}' does not exist.\")"
      ],
      "metadata": {
        "id": "HiqdUbfEnOgU"
      },
      "execution_count": null,
      "outputs": []
    },
    {
      "cell_type": "code",
      "source": [
        "#14.Write a program that uses the logging module to log both informational and error messages\n",
        "import logging\n",
        "\n",
        "\n",
        "logging.basicConfig(\n",
        "    level=logging.INFO,\n",
        "    format='%(asctime)s - %(levelname)s - %(message)s',\n",
        "    handlers=[\n",
        "        logging.FileHandler(\"app.log\"),\n",
        "        logging.StreamHandler()\n",
        "    ]\n",
        ")\n",
        "\n",
        "\n",
        "logger = logging.getLogger(__name__)\n",
        "\n",
        "\n",
        "logger.info(\"Application started successfully.\")\n",
        "logger.info(\"Processing data from source A.\")\n",
        "\n",
        "\n",
        "try:\n",
        "    result = 10 / 0\n",
        "except ZeroDivisionError as e:\n",
        "    logger.error(f\"An error occurred during division: {e}\")\n",
        "\n",
        "\n",
        "logger.info(\"Data processing completed.\")\n",
        "logger.info(\"Application shutting down.\")"
      ],
      "metadata": {
        "colab": {
          "base_uri": "https://localhost:8080/"
        },
        "id": "AiDqFrDhnpn0",
        "outputId": "df649ee9-a998-456e-e97c-7ad26b03116e"
      },
      "execution_count": 27,
      "outputs": [
        {
          "output_type": "stream",
          "name": "stderr",
          "text": [
            "ERROR:__main__:An error occurred during division: division by zero\n"
          ]
        }
      ]
    },
    {
      "cell_type": "code",
      "source": [
        "#15. Write a Python program that prints the content of a file and handles the case when the file is empty\n",
        "def print_file_content(file_path):\n",
        "\n",
        "    try:\n",
        "        with open(file_path, 'r') as file:\n",
        "            content = file.read()\n",
        "            if not content:\n",
        "                print(f\"The file '{file_path}' is empty.\")\n",
        "            else:\n",
        "                print(f\"Content of '{file_path}':\")\n",
        "                print(content)\n",
        "    except FileNotFoundError:\n",
        "        print(f\"Error: The file '{file_path}' was not found.\")\n",
        "    except Exception as e:\n",
        "        print(f\"An unexpected error occurred: {e}\")\n",
        "\n",
        "\n",
        "with open(\"my_file.txt\", \"w\") as f:\n",
        "    f.write(\"This is a line of text.\\n\")\n",
        "    f.write(\"This is another line.\")\n",
        "\n",
        "\n",
        "with open(\"empty_file.txt\", \"w\") as f:\n",
        "    pass\n",
        "\n",
        "print_file_content(\"my_file.txt\")\n",
        "print_file_content(\"empty_file.txt\")\n",
        "print_file_content(\"non_existent_file.txt\")"
      ],
      "metadata": {
        "colab": {
          "base_uri": "https://localhost:8080/"
        },
        "id": "aPXBiPxCoEjV",
        "outputId": "464447b7-1c5e-4c90-d3c6-35b923d89983"
      },
      "execution_count": 29,
      "outputs": [
        {
          "output_type": "stream",
          "name": "stdout",
          "text": [
            "Content of 'my_file.txt':\n",
            "This is a line of text.\n",
            "This is another line.\n",
            "The file 'empty_file.txt' is empty.\n",
            "Error: The file 'non_existent_file.txt' was not found.\n"
          ]
        }
      ]
    },
    {
      "cell_type": "code",
      "source": [
        "#16.Demonstrate how to use memory profiling to check the memory usage of a small program\n",
        "\n",
        "from memory_profiler import profile\n",
        "\n",
        "@profile\n",
        "def my_function():\n",
        "    a = [1] * (10**6)\n",
        "    b = [2] * (2 * 10**6)\n",
        "    del a\n",
        "    return b\n",
        "\n",
        "if __name__ == \"__main__\":\n",
        "    my_function()\n",
        ""
      ],
      "metadata": {
        "id": "HWnL2omXoWdY"
      },
      "execution_count": null,
      "outputs": []
    },
    {
      "cell_type": "code",
      "source": [
        "#17. Write a Python program to create and write a list of numbers to a file, one number per line\n",
        "def write_numbers_to_file(numbers, filename):\n",
        "\n",
        "    try:\n",
        "        with open(filename, 'w') as file:\n",
        "            for number in numbers:\n",
        "                file.write(str(number) + '\\n')\n",
        "        print(f\"Numbers successfully written to {filename}\")\n",
        "    except IOError as e:\n",
        "        print(f\"Error writing to file: {e}\")\n",
        "\n",
        "if __name__ == \"__main__\":\n",
        "\n",
        "    my_numbers = [10, 25, 30, 45, 60, 75, 90]\n",
        "\n",
        "\n",
        "    output_file = \"numbers.txt\"\n",
        "\n",
        "\n",
        "    write_numbers_to_file(my_numbers, output_file)\n",
        "\n",
        "    try:\n",
        "        with open(output_file, 'r') as file:\n",
        "            print(\"\\nContent of the file:\")\n",
        "            print(file.read())\n",
        "    except IOError as e:\n",
        "        print(f\"Error reading file: {e}\")"
      ],
      "metadata": {
        "colab": {
          "base_uri": "https://localhost:8080/"
        },
        "id": "94QGZ6Mmq8Ut",
        "outputId": "bab17613-0605-40ac-cecb-f86efaf0487c"
      },
      "execution_count": 33,
      "outputs": [
        {
          "output_type": "stream",
          "name": "stdout",
          "text": [
            "Numbers successfully written to numbers.txt\n",
            "\n",
            "Content of the file:\n",
            "10\n",
            "25\n",
            "30\n",
            "45\n",
            "60\n",
            "75\n",
            "90\n",
            "\n"
          ]
        }
      ]
    },
    {
      "cell_type": "code",
      "source": [
        "#18. How would you implement a basic logging setup that logs to a file with rotation after 1MB\n",
        "from logging.handlers import RotatingFileHandler\n",
        "\n",
        "def rotator(source, dest):\n",
        "    with open(source, 'rt') as f_in:\n",
        "        with gzip.open(dest, 'wt') as f_out:\n",
        "            f_out.writelines(f_in.readlines())\n",
        "    os.remove(source)\n",
        "\n",
        "def namer(name):\n",
        "    return str.join('.', name.split('.')[0:2]) + \".\" + datetime.datetime.now().strftime(\"%Y-%m-%d\") + \".\" + name.split('.')[2] + \".gz\"\n",
        "\n",
        "logger = logging.getLogger(\"QueueCommunicator\")\n",
        "logger.setLevel(logging.INFO)\n",
        "handler = RotatingFileHandler(os.path.join(settings.STORAGE_DIR, 'listener.log'), backupCount=5, maxBytes=120000000)\n",
        "handler.setFormatter(logging.Formatter(fmt='%(asctime)s,%(msecs)d %(process)d %(threadName)s %(name)s %(levelname)s %(message)s',\n",
        "                                        datefmt='%Y-%m-%d %H:%M:%S'))\n",
        "handler.rotator = rotator\n",
        "handler.namer = namer\n",
        "logger.addHandler(handler)"
      ],
      "metadata": {
        "id": "4vF68iACrKLJ"
      },
      "execution_count": null,
      "outputs": []
    },
    {
      "cell_type": "code",
      "source": [
        "#19.Write a program that handles both IndexError and KeyError using a try-except block\n",
        "def access_data(data, key_or_index):\n",
        "    \"\"\"\n",
        "    Attempts to access an item from a dictionary or a list,\n",
        "    handling KeyError for dictionaries and IndexError for lists.\n",
        "    \"\"\"\n",
        "    try:\n",
        "        # Attempt to access as a dictionary key\n",
        "        if isinstance(data, dict):\n",
        "            print(f\"Accessed value: {data[key_or_index]}\")\n",
        "        # Attempt to access as a list index\n",
        "        elif isinstance(data, list):\n",
        "            print(f\"Accessed value: {data[key_or_index]}\")\n",
        "        else:\n",
        "            print(\"Unsupported data type. Please provide a dictionary or a list.\")\n",
        "    except KeyError:\n",
        "        print(f\"Error: Key '{key_or_index}' not found in the dictionary.\")\n",
        "    except IndexError:\n",
        "        print(f\"Error: Index '{key_or_index}' is out of bounds for the list.\")\n",
        "    except Exception as e:\n",
        "        # Catch any other unexpected exceptions\n",
        "        print(f\"An unexpected error occurred: {e}\")\n",
        "\n",
        "# Example Usage:\n",
        "\n",
        "# Handling KeyError\n",
        "my_dict = {\"name\": \"Alice\", \"age\": 30}\n",
        "print(\"\\n--- Dictionary Access ---\")\n",
        "access_data(my_dict, \"name\")  # Valid key\n",
        "access_data(my_dict, \"city\")  # Invalid key (KeyError)\n",
        "\n",
        "# Handling IndexError\n",
        "my_list = [10, 20, 30]\n",
        "print(\"\\n--- List Access ---\")\n",
        "access_data(my_list, 1)    # Valid index\n",
        "access_data(my_list, 5)    # Invalid index (IndexError)\n",
        "access_data(my_list, -4)   # Invalid index (IndexError)\n",
        "\n",
        "# Handling unsupported data type\n",
        "print(\"\\n--- Unsupported Data Type ---\")\n",
        "access_data(\"hello\", 0)"
      ],
      "metadata": {
        "colab": {
          "base_uri": "https://localhost:8080/"
        },
        "id": "4UzaQ6RorXHn",
        "outputId": "991c28d4-abe5-47b0-c94e-e7dab2d6303f"
      },
      "execution_count": 35,
      "outputs": [
        {
          "output_type": "stream",
          "name": "stdout",
          "text": [
            "\n",
            "--- Dictionary Access ---\n",
            "Accessed value: Alice\n",
            "Error: Key 'city' not found in the dictionary.\n",
            "\n",
            "--- List Access ---\n",
            "Accessed value: 20\n",
            "Error: Index '5' is out of bounds for the list.\n",
            "Error: Index '-4' is out of bounds for the list.\n",
            "\n",
            "--- Unsupported Data Type ---\n",
            "Unsupported data type. Please provide a dictionary or a list.\n"
          ]
        }
      ]
    },
    {
      "cell_type": "code",
      "source": [
        "#20. How would you open a file and read its contents using a context manager in Python\n",
        "# Create a dummy file for demonstration\n",
        "with open(\"example.txt\", \"w\") as f:\n",
        "    f.write(\"This is line 1.\\n\")\n",
        "    f.write(\"This is line 2.\\n\")\n",
        "\n",
        "# Open and read the file using a context manager\n",
        "with open(\"example.txt\", \"r\") as f:\n",
        "    file_contents = f.read()\n",
        "    print(file_contents)\n",
        "\n",
        "# Example of reading line by line\n",
        "with open(\"example.txt\", \"r\") as f:\n",
        "    for line in f:\n",
        "        print(f\"Line: {line.strip()}\")"
      ],
      "metadata": {
        "colab": {
          "base_uri": "https://localhost:8080/"
        },
        "id": "IttU-Ic6riP0",
        "outputId": "f06a8834-3603-4de0-ef71-3ef8d9c75f16"
      },
      "execution_count": 36,
      "outputs": [
        {
          "output_type": "stream",
          "name": "stdout",
          "text": [
            "This is line 1.\n",
            "This is line 2.\n",
            "\n",
            "Line: This is line 1.\n",
            "Line: This is line 2.\n"
          ]
        }
      ]
    },
    {
      "cell_type": "code",
      "source": [
        "#21.  Write a Python program that reads a file and prints the number of occurrences of a specific word\n",
        "def count_word_occurrences(file_path, target_word):\n",
        "    \"\"\"\n",
        "    Counts the number of occurrences of a specific word in a text file.\n",
        "\n",
        "    Args:\n",
        "        file_path (str): The path to the text file.\n",
        "        target_word (str): The word to search for.\n",
        "\n",
        "    Returns:\n",
        "        int: The number of occurrences of the target word.\n",
        "    \"\"\"\n",
        "    count = 0\n",
        "    try:\n",
        "        with open(file_path, 'r') as file:\n",
        "            for line in file:\n",
        "                # Convert the line to lowercase for case-insensitive matching\n",
        "                # and split it into words\n",
        "                words = line.lower().split()\n",
        "                for word in words:\n",
        "                    # Remove punctuation and check for exact match\n",
        "                    cleaned_word = word.strip('.,!?;:\"\\'()[]{}')\n",
        "                    if cleaned_word == target_word.lower():\n",
        "                        count += 1\n",
        "    except FileNotFoundError:\n",
        "        print(f\"Error: The file '{file_path}' was not found.\")\n",
        "        return -1  # Indicate an error\n",
        "    return count\n",
        "\n",
        "if __name__ == \"__main__\":\n",
        "    file_name = input(\"Enter the name of the text file: \")\n",
        "    word_to_find = input(\"Enter the word to count: \")\n",
        "\n",
        "    occurrences = count_word_occurrences(file_name, word_to_find)\n",
        "\n",
        "    if occurrences != -1:\n",
        "        print(f\"The word '{word_to_find}' appears {occurrences} times in '{file_name}'.\")"
      ],
      "metadata": {
        "colab": {
          "base_uri": "https://localhost:8080/"
        },
        "id": "hf1EpTAirrwr",
        "outputId": "adbdfd02-5e7f-40c5-9ae7-24af5e1c7165"
      },
      "execution_count": 37,
      "outputs": [
        {
          "output_type": "stream",
          "name": "stdout",
          "text": [
            "Enter the name of the text file: abc\n",
            "Enter the word to count: abc\n",
            "Error: The file 'abc' was not found.\n"
          ]
        }
      ]
    },
    {
      "cell_type": "code",
      "source": [
        "#22.  How can you check if a file is empty before attempting to read its content\n",
        "import os\n",
        "\n",
        "def is_file_empty(filepath):\n",
        "  \"\"\"\n",
        "  Checks if a file is empty.\n",
        "\n",
        "  Args:\n",
        "    filepath: The path to the file.\n",
        "\n",
        "  Returns:\n",
        "    True if the file is empty, False otherwise.\n",
        "  \"\"\"\n",
        "  try:\n",
        "    return os.path.getsize(filepath) == 0\n",
        "  except OSError:\n",
        "    # Handle cases where the file doesn't exist or there's an issue accessing it\n",
        "    return True  # Or raise the exception, depending on desired behavior\n",
        "\n",
        "\n",
        "# Example usage\n",
        "file_path = \"my_file.txt\"\n",
        "\n",
        "# Create a sample file for testing\n",
        "with open(file_path, \"w\") as f:\n",
        "    f.write(\"\")  # Empty file\n",
        "\n",
        "if is_file_empty(file_path):\n",
        "  print(f\"The file '{file_path}' is empty.\")\n",
        "else:\n",
        "  print(f\"The file '{file_path}' is not empty.\")\n",
        "\n",
        "# Clean up the sample file\n",
        "os.remove(file_path)\n",
        "\n",
        "# Example with a non-existent file\n",
        "file_path = \"nonexistent_file.txt\"\n",
        "\n",
        "if is_file_empty(file_path):\n",
        "  print(f\"The file '{file_path}' is empty (or does not exist).\")\n",
        "else:\n",
        "  print(f\"The file '{file_path}' is not empty (or does not exist).\")\n",
        "\n",
        "\n",
        "# Example using os.stat()\n",
        "def is_file_empty_using_stat(filepath):\n",
        "    try:\n",
        "        return os.stat(filepath).st_size == 0\n",
        "    except OSError:\n",
        "        return True\n",
        "\n",
        "if is_file_empty_using_stat(file_path):\n",
        "    print(f\"The file '{file_path}' is empty (or does not exist).\")\n",
        "else:\n",
        "    print(f\"The file '{file_path}' is not empty (or does not exist).\")"
      ],
      "metadata": {
        "colab": {
          "base_uri": "https://localhost:8080/"
        },
        "id": "4CdKwzmJr4KG",
        "outputId": "61f6d138-1dd5-48c3-adfe-0c9234a8be72"
      },
      "execution_count": 38,
      "outputs": [
        {
          "output_type": "stream",
          "name": "stdout",
          "text": [
            "The file 'my_file.txt' is empty.\n",
            "The file 'nonexistent_file.txt' is empty (or does not exist).\n",
            "The file 'nonexistent_file.txt' is empty (or does not exist).\n"
          ]
        }
      ]
    },
    {
      "cell_type": "code",
      "source": [
        "#23. Write a Python program that writes to a log file when an error occurs during file handling\n",
        "import logging\n",
        "\n",
        "# Configure the logger\n",
        "# Set up the basic configuration for logging\n",
        "# filename: Specifies the log file name\n",
        "# level: Sets the minimum level of messages to log (e.g., logging.ERROR, logging.WARNING, logging.INFO, logging.DEBUG)\n",
        "# format: Defines the format of the log messages\n",
        "logging.basicConfig(\n",
        "    filename='file_errors.log',\n",
        "    level=logging.ERROR,\n",
        "    format='%(asctime)s - %(levelname)s - %(message)s'\n",
        ")\n",
        "\n",
        "def safe_file_read(filepath):\n",
        "    \"\"\"\n",
        "    Attempts to read content from a file and logs an error if an exception occurs.\n",
        "    \"\"\"\n",
        "    try:\n",
        "        with open(filepath, 'r') as file:\n",
        "            content = file.read()\n",
        "            print(f\"File content:\\n{content}\")\n",
        "    except FileNotFoundError:\n",
        "        logging.error(f\"File not found: {filepath}\")\n",
        "        print(f\"Error: The file '{filepath}' was not found.\")\n",
        "    except IOError as e:\n",
        "        logging.error(f\"IO Error while reading {filepath}: {e}\")\n",
        "        print(f\"Error: An I/O error occurred while reading '{filepath}': {e}\")\n",
        "    except Exception as e:\n",
        "        logging.error(f\"An unexpected error occurred with {filepath}: {e}\")\n",
        "        print(f\"Error: An unexpected error occurred: {e}\")\n",
        "\n",
        "def safe_file_write(filepath, data):\n",
        "    \"\"\"\n",
        "    Attempts to write data to a file and logs an error if an exception occurs.\n",
        "    \"\"\"\n",
        "    try:\n",
        "        with open(filepath, 'w') as file:\n",
        "            file.write(data)\n",
        "            print(f\"Successfully wrote to {filepath}\")\n",
        "    except IOError as e:\n",
        "        logging.error(f\"IO Error while writing to {filepath}: {e}\")\n",
        "        print(f\"Error: An I/O error occurred while writing to '{filepath}': {e}\")\n",
        "    except Exception as e:\n",
        "        logging.error(f\"An unexpected error occurred while writing to {filepath}: {e}\")\n",
        "        print(f\"Error: An unexpected error occurred: {e}\")\n",
        "\n",
        "\n",
        "if __name__ == \"__main__\":\n",
        "\n",
        "    safe_file_read('non_existent_file.txt')\n",
        "\n",
        "\n",
        "    test_file = 'my_data.txt'\n",
        "    safe_file_write(test_file, \"This is some test data.\")\n",
        "    safe_file_read(test_file)\n",
        "\n"
      ],
      "metadata": {
        "colab": {
          "base_uri": "https://localhost:8080/"
        },
        "id": "4rnXFRROsCwt",
        "outputId": "395e9d92-157c-4998-dc34-55d8c2882fd1"
      },
      "execution_count": 39,
      "outputs": [
        {
          "output_type": "stream",
          "name": "stderr",
          "text": [
            "ERROR:root:File not found: non_existent_file.txt\n"
          ]
        },
        {
          "output_type": "stream",
          "name": "stdout",
          "text": [
            "Error: The file 'non_existent_file.txt' was not found.\n",
            "Successfully wrote to my_data.txt\n",
            "File content:\n",
            "This is some test data.\n"
          ]
        }
      ]
    }
  ]
}